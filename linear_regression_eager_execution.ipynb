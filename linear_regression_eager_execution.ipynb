{
 "cells": [
  {
   "cell_type": "code",
   "execution_count": 1,
   "metadata": {},
   "outputs": [],
   "source": [
    "import tensorflow as tf\n",
    "import numpy as np\n",
    "import matplotlib.pyplot as plt\n",
    "%matplotlib inline"
   ]
  },
  {
   "cell_type": "code",
   "execution_count": 2,
   "metadata": {},
   "outputs": [],
   "source": [
    "tf.enable_eager_execution()\n",
    "tfe = tf.contrib.eager"
   ]
  },
  {
   "cell_type": "code",
   "execution_count": 3,
   "metadata": {},
   "outputs": [],
   "source": [
    "train_X = np.array([1, 2, 3, 4, 5, 6, 7, 8, 9, 10, 11, 12, 13, 14, 15])\n",
    "train_Y = np.array([10, 20, 30, 40, 50, 60, 70, 80, 90, 100, 110, 120, 130, 140, 150])\n",
    "train_sample = train_X.shape[0]"
   ]
  },
  {
   "cell_type": "code",
   "execution_count": 4,
   "metadata": {},
   "outputs": [],
   "source": [
    "learning_rate = 0.01\n",
    "total_epochs = 1000\n",
    "display_step = 50"
   ]
  },
  {
   "cell_type": "code",
   "execution_count": 5,
   "metadata": {},
   "outputs": [],
   "source": [
    "W = tfe.Variable(np.random.randn())\n",
    "b = tfe.Variable(np.random.randn())"
   ]
  },
  {
   "cell_type": "code",
   "execution_count": 6,
   "metadata": {},
   "outputs": [],
   "source": [
    "def linear_regression(inputs):\n",
    "    return inputs*W + b"
   ]
  },
  {
   "cell_type": "code",
   "execution_count": 7,
   "metadata": {},
   "outputs": [],
   "source": [
    "def mean_square_error(model_fn, inputs, labels):\n",
    "    return tf.reduce_sum(tf.pow(model_fn(inputs) - labels, 2))/(2*train_sample)"
   ]
  },
  {
   "cell_type": "code",
   "execution_count": 8,
   "metadata": {},
   "outputs": [],
   "source": [
    "optimizer = tf.train.GradientDescentOptimizer(learning_rate=learning_rate)\n",
    "grad = tfe.implicit_gradients(mean_square_error)"
   ]
  },
  {
   "cell_type": "code",
   "execution_count": 12,
   "metadata": {},
   "outputs": [
    {
     "name": "stdout",
     "output_type": "stream",
     "text": [
      "Initial cost: 4334.99853515625  W:  -0.1640692  b:  -0.79454565\n"
     ]
    }
   ],
   "source": [
    "print(\"Initial cost: {}\".format(mean_square_error(linear_regression, train_X, train_Y)), \" W: \", W.numpy(), \" b: \", b.numpy())"
   ]
  },
  {
   "cell_type": "code",
   "execution_count": 13,
   "metadata": {},
   "outputs": [
    {
     "name": "stdout",
     "output_type": "stream",
     "text": [
      "Epoch:  50  Cost: 0.0032565167639404535  W:  9.9835205  b:  0.16983142\n",
      "Epoch:  100  Cost: 0.002603091998025775  W:  9.985266  b:  0.15184042\n",
      "Epoch:  150  Cost: 0.002080766251310706  W:  9.986827  b:  0.13575487\n",
      "Epoch:  200  Cost: 0.0016632856568321586  W:  9.988222  b:  0.12137348\n",
      "Epoch:  250  Cost: 0.0013295317767187953  W:  9.98947  b:  0.10851536\n",
      "Epoch:  300  Cost: 0.0010627979645505548  W:  9.990585  b:  0.09702009\n",
      "Epoch:  350  Cost: 0.000849493604619056  W:  9.991583  b:  0.086742304\n",
      "Epoch:  400  Cost: 0.0006790306069888175  W:  9.992475  b:  0.0775532\n",
      "Epoch:  450  Cost: 0.0005428086733445525  W:  9.993272  b:  0.06933773\n",
      "Epoch:  500  Cost: 0.00043389276834204793  W:  9.993984  b:  0.06199208\n",
      "Epoch:  550  Cost: 0.00034687481820583344  W:  9.994622  b:  0.055424817\n",
      "Epoch:  600  Cost: 0.0002772279258351773  W:  9.995192  b:  0.04955304\n",
      "Epoch:  650  Cost: 0.00022162891400512308  W:  9.995701  b:  0.044303294\n",
      "Epoch:  700  Cost: 0.00017713803390506655  W:  9.996157  b:  0.039610393\n",
      "Epoch:  750  Cost: 0.0001416062586940825  W:  9.996564  b:  0.035414133\n",
      "Epoch:  800  Cost: 0.00011318836914142594  W:  9.996927  b:  0.03166228\n",
      "Epoch:  850  Cost: 9.048451465787366e-05  W:  9.997253  b:  0.028307917\n",
      "Epoch:  900  Cost: 7.231169001897797e-05  W:  9.997544  b:  0.025309127\n",
      "Epoch:  950  Cost: 5.780646824860014e-05  W:  9.997805  b:  0.022627981\n",
      "Epoch:  1000  Cost: 4.620724212145433e-05  W:  9.998036  b:  0.020230806\n"
     ]
    },
    {
     "data": {
      "image/png": "[encoded data removed]",
      "text/plain": [
       "<Figure size 432x288 with 1 Axes>"
      ]
     },
     "metadata": {},
     "output_type": "display_data"
    }
   ],
   "source": [
    "for epoch in range(total_epochs):\n",
    "    optimizer.apply_gradients(grad(linear_regression, train_X, train_Y))\n",
    "    \n",
    "    if (epoch+1) % display_step == 0:\n",
    "        print(\"Epoch: \", epoch+1, \" Cost: {}\".format(mean_square_error(linear_regression, train_X, train_Y)), \n",
    "              \" W: \", W.numpy(), \" b: \", b.numpy())\n",
    "        \n",
    "plt.plot(train_X, train_Y, \"ro\", label=\"Original Data\")\n",
    "plt.plot(train_X, np.array(W*train_X + b), label=\"Fitted Line\")\n",
    "plt.legend()\n",
    "plt.show()"
   ]
  },
  {
   "cell_type": "code",
   "execution_count": null,
   "metadata": {},
   "outputs": [],
   "source": []
  }
 ],
 "metadata": {
  "kernelspec": {
   "display_name": "Python 3",
   "language": "python",
   "name": "python3"
  },
  "language_info": {
   "codemirror_mode": {
    "name": "ipython",
    "version": 3
   },
   "file_extension": ".py",
   "mimetype": "text/x-python",
   "name": "python",
   "nbconvert_exporter": "python",
   "pygments_lexer": "ipython3",
   "version": "3.6.5"
  }
 },
 "nbformat": 4,
 "nbformat_minor": 2
}
