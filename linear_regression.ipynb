{
  "nbformat": 4,
  "nbformat_minor": 0,
  "metadata": {
    "colab": {
      "name": "Linear_Regression.ipynb",
      "version": "0.3.2",
      "provenance": [],
      "include_colab_link": true
    },
    "kernelspec": {
      "name": "python3",
      "display_name": "Python 3"
    },
    "accelerator": "GPU"
  },
  "cells": [
    {
      "cell_type": "markdown",
      "metadata": {
        "id": "view-in-github",
        "colab_type": "text"
      },
      "source": [
        "[View in Colaboratory](https://colab.research.google.com/github/akashbangera758/Tensorflow-examples/blob/master/Linear_Regression.ipynb)"
      ]
    },
    {
      "metadata": {
        "id": "7msUKgIsB8iN",
        "colab_type": "code",
        "colab": {}
      },
      "cell_type": "code",
      "source": [
        "import tensorflow as tf\n",
        "import numpy as np\n",
        "import matplotlib.pyplot as plt\n",
        "%matplotlib inline"
      ],
      "execution_count": 0,
      "outputs": []
    },
    {
      "metadata": {
        "id": "LxlxZ1HXFAqm",
        "colab_type": "code",
        "colab": {}
      },
      "cell_type": "code",
      "source": [
        "# Training Data\n",
        "train_X = np.array([1, 2, 3, 4, 5, 6, 7, 8, 9, 10, 11, 12, 13, 14, 15, 16, 17, 18, 19, 20])\n",
        "train_Y = np.array([10, 20, 30, 40, 50, 60, 70, 80, 90, 100, 110, 120, 130, 140, 150, 160, 170, 180, 190, 200])\n",
        "train_samples = train_X.shape[0]"
      ],
      "execution_count": 0,
      "outputs": []
    },
    {
      "metadata": {
        "id": "kD6GpASnD7qM",
        "colab_type": "code",
        "colab": {}
      },
      "cell_type": "code",
      "source": [
        "# Parameters\n",
        "learning_rate = 0.02\n",
        "training_epochs = 1000\n",
        "display_step = 50"
      ],
      "execution_count": 0,
      "outputs": []
    },
    {
      "metadata": {
        "id": "dprn2enoH5wZ",
        "colab_type": "code",
        "colab": {}
      },
      "cell_type": "code",
      "source": [
        "X = tf.placeholder(tf.float32)\n",
        "Y = tf.placeholder(tf.float32)\n",
        "\n",
        "W = tf.Variable(np.random.randn, name=\"weights\")\n",
        "b = tf.Variable(np.random.randn, name=\"bias\")"
      ],
      "execution_count": 0,
      "outputs": []
    },
    {
      "metadata": {
        "id": "BtXKmS9_IYMr",
        "colab_type": "code",
        "colab": {}
      },
      "cell_type": "code",
      "source": [
        "pred = tf.add(tf.multiply(W, X), b)"
      ],
      "execution_count": 0,
      "outputs": []
    },
    {
      "metadata": {
        "id": "m75GSNstIj5W",
        "colab_type": "code",
        "colab": {}
      },
      "cell_type": "code",
      "source": [
        "cost = tf.reduce_sum(tf.pow(pred-Y, 2))/(2*train_samples)\n",
        "\n",
        "optimizer = tf.train.GradientDescentOptimizer(learning_rate=learning_rate).minimize(cost)"
      ],
      "execution_count": 0,
      "outputs": []
    },
    {
      "metadata": {
        "id": "vXOQm-vkJGm2",
        "colab_type": "code",
        "colab": {}
      },
      "cell_type": "code",
      "source": [
        "init = tf.global_variables_initializer()"
      ],
      "execution_count": 0,
      "outputs": []
    },
    {
      "metadata": {
        "id": "v6ti5_uqJMnM",
        "colab_type": "code",
        "colab": {
          "base_uri": "https://localhost:8080/",
          "height": 639
        },
        "outputId": "e2cbcb85-451f-43d3-8644-e71c50bbef71"
      },
      "cell_type": "code",
      "source": [
        "with tf.Session() as sess:\n",
        "  sess.run(init)\n",
        "  for epoch in range(training_epochs):\n",
        "    for (x, y) in zip(train_X, train_Y):\n",
        "      sess.run(optimizer, feed_dict={X:x, Y:y})\n",
        "    \n",
        "    if (epoch+1)%display_step == 0:\n",
        "      training_cost = sess.run(cost, feed_dict={X:train_X, Y:train_Y})\n",
        "      print(\"Epoch:\", (epoch+1), \"Cost:\", training_cost, \"W:\", sess.run(W), \"b:\", sess.run(b))\n",
        "    \n",
        "  print(\"Training Completed !\")\n",
        "  training_cost = sess.run(cost, feed_dict={X:train_X, Y:train_Y})\n",
        "  print(\"Cost:\", training_cost, \"W:\", sess.run(W), \"b:\", sess.run(b))\n",
        "  \n",
        "  plt.plot(train_X, train_Y, \"ro\", label=\"Original data\")\n",
        "  plt.plot(train_X, train_X*sess.run(W)+sess.run(b), label=\"Fitted Line\")\n",
        "  plt.legend()\n",
        "  plt.show()"
      ],
      "execution_count": 8,
      "outputs": [
        {
          "output_type": "stream",
          "text": [
            "Epoch: 50 Cost: 0.12736274 W: 9.945681 b: 0.96610355\n",
            "Epoch: 100 Cost: 0.081133075 W: 9.956646 b: 0.7710824\n",
            "Epoch: 150 Cost: 0.051684257 W: 9.965398 b: 0.6154289\n",
            "Epoch: 200 Cost: 0.03292269 W: 9.972382 b: 0.49119788\n",
            "Epoch: 250 Cost: 0.020972686 W: 9.977957 b: 0.39204237\n",
            "Epoch: 300 Cost: 0.01336079 W: 9.982408 b: 0.3129031\n",
            "Epoch: 350 Cost: 0.0085106995 W: 9.985958 b: 0.24973989\n",
            "Epoch: 400 Cost: 0.0054217516 W: 9.988793 b: 0.19932553\n",
            "Epoch: 450 Cost: 0.0034532945 W: 9.991055 b: 0.15908824\n",
            "Epoch: 500 Cost: 0.0021999932 W: 9.992861 b: 0.12697382\n",
            "Epoch: 550 Cost: 0.0014013246 W: 9.994302 b: 0.101341054\n",
            "Epoch: 600 Cost: 0.00089267286 W: 9.995452 b: 0.08088396\n",
            "Epoch: 650 Cost: 0.000568743 W: 9.99637 b: 0.06455717\n",
            "Epoch: 700 Cost: 0.00036238632 W: 9.997104 b: 0.051525693\n",
            "Epoch: 750 Cost: 0.00023073028 W: 9.997687 b: 0.041124575\n",
            "Epoch: 800 Cost: 0.00014701595 W: 9.998155 b: 0.032823212\n",
            "Epoch: 850 Cost: 9.3681614e-05 W: 9.998528 b: 0.026196443\n",
            "Epoch: 900 Cost: 5.9643848e-05 W: 9.998824 b: 0.020908406\n",
            "Epoch: 950 Cost: 3.798581e-05 W: 9.999062 b: 0.016686918\n",
            "Epoch: 1000 Cost: 2.4219547e-05 W: 9.999251 b: 0.013319047\n",
            "Training Completed !\n",
            "Cost: 2.4219547e-05 W: 9.999251 b: 0.013319047\n"
          ],
          "name": "stdout"
        },
        {
          "output_type": "display_data",
          "data": {
            "image/png": "[encoded data removed]",
            "text/plain": [
              "<matplotlib.figure.Figure at 0x7f975cae9e48>"
            ]
          },
          "metadata": {
            "tags": []
          }
        }
      ]
    }
  ]
}
